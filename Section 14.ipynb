{
 "cells": [
  {
   "cell_type": "markdown",
   "metadata": {},
   "source": [
    "# Section 14: Latin squares"
   ]
  },
  {
   "cell_type": "code",
   "execution_count": 1,
   "metadata": {},
   "outputs": [],
   "source": [
    "from latin import *\n",
    "import sympy as sp\n",
    "from IPython.display import display, Math, Latex"
   ]
  },
  {
   "cell_type": "markdown",
   "metadata": {},
   "source": [
    "**Example 14.4**"
   ]
  },
  {
   "cell_type": "code",
   "execution_count": 2,
   "metadata": {},
   "outputs": [
    {
     "data": {
      "text/latex": [
       "$\\displaystyle \\left[\\begin{matrix}1 & 4 & 3\\\\5 & 2 & 1\\end{matrix}\\right]$"
      ],
      "text/plain": [
       "Matrix([\n",
       "[1, 4, 3],\n",
       "[5, 2, 1]])"
      ]
     },
     "metadata": {},
     "output_type": "display_data"
    },
    {
     "data": {
      "text/latex": [
       "$P=\\left\\{0, 1\\right\\}$, $\\quad Q=\\left\\{0, 1, 2\\right\\}$, $\\quad N=\\left\\{1, 2, 3, 4, 5\\right\\}$"
      ],
      "text/plain": [
       "<IPython.core.display.Latex object>"
      ]
     },
     "metadata": {},
     "output_type": "display_data"
    }
   ],
   "source": [
    "L = LatinRectangle([[1,4,3],[5,2,1]])\n",
    "L.show_matrix()\n",
    "display(Latex(\"$P=\" + sp.latex(set(L.P)) + \"$, $\\\\quad Q=\" + sp.latex(set(L.Q)) + \"$, $\\\\quad N=\" + sp.latex(set(L.N)) + \"$\"))"
   ]
  },
  {
   "cell_type": "markdown",
   "metadata": {},
   "source": [
    "**Example 14.5**"
   ]
  },
  {
   "cell_type": "code",
   "execution_count": 3,
   "metadata": {},
   "outputs": [
    {
     "data": {
      "text/latex": [
       "$\\displaystyle \\left[\\begin{matrix}1 & 4 & 3 & 2\\\\2 & 3 & 4 & 1\\\\4 & 1 & 2 & 3\\\\3 & 2 & 1 & 4\\end{matrix}\\right]$"
      ],
      "text/plain": [
       "Matrix([\n",
       "[1, 4, 3, 2],\n",
       "[2, 3, 4, 1],\n",
       "[4, 1, 2, 3],\n",
       "[3, 2, 1, 4]])"
      ]
     },
     "metadata": {},
     "output_type": "display_data"
    },
    {
     "data": {
      "text/latex": [
       "$P=\\left\\{0, 1, 2, 3\\right\\}$, $\\quad Q=\\left\\{0, 1, 2, 3\\right\\}$, $\\quad N=\\left\\{1, 2, 3, 4\\right\\}$"
      ],
      "text/plain": [
       "<IPython.core.display.Latex object>"
      ]
     },
     "metadata": {},
     "output_type": "display_data"
    }
   ],
   "source": [
    "L = LatinRectangle([[1,4,3,2],[2,3,4,1],[4,1,2,3],[3,2,1,4]])\n",
    "L.show_matrix()\n",
    "display(Latex(\"$P=\" + sp.latex(set(L.P)) + \"$, $\\\\quad Q=\" + sp.latex(set(L.Q)) + \"$, $\\\\quad N=\" + sp.latex(set(L.N)) + \"$\"))"
   ]
  },
  {
   "cell_type": "markdown",
   "metadata": {},
   "source": [
    "**Example 14.7**"
   ]
  },
  {
   "cell_type": "code",
   "execution_count": 4,
   "metadata": {},
   "outputs": [
    {
     "data": {
      "text/latex": [
       "$\\displaystyle \\left[\\begin{matrix}0 & 1 & 2 & 3 & 4\\\\1 & 2 & 3 & 4 & 0\\\\2 & 3 & 4 & 0 & 1\\\\3 & 4 & 0 & 1 & 2\\\\4 & 0 & 1 & 2 & 3\\end{matrix}\\right]$"
      ],
      "text/plain": [
       "Matrix([\n",
       "[0, 1, 2, 3, 4],\n",
       "[1, 2, 3, 4, 0],\n",
       "[2, 3, 4, 0, 1],\n",
       "[3, 4, 0, 1, 2],\n",
       "[4, 0, 1, 2, 3]])"
      ]
     },
     "metadata": {},
     "output_type": "display_data"
    }
   ],
   "source": [
    "L = LatinRectangle.modular_square(5)\n",
    "L.show_matrix()"
   ]
  },
  {
   "cell_type": "markdown",
   "metadata": {},
   "source": [
    "**Example 14.11**"
   ]
  },
  {
   "cell_type": "code",
   "execution_count": 5,
   "metadata": {},
   "outputs": [
    {
     "data": {
      "text/html": [
       "<style>td {border: 1px solid black;}</style>\n",
       "<table>\n",
       "<tr><td>k</td><td>1</td><td>2</td><td>3</td><td>4</td><td>5</td></tr>\n",
       "<tr><td>m(k)</td><td>2</td><td>0</td><td>2</td><td>2</td><td>2</td></tr>\n",
       "<tr><td>e(k)</td><td>1</td><td style=\"color:red\">-1</td><td>1</td><td>1</td><td>1</td></tr>\n",
       "</table>"
      ],
      "text/plain": [
       "<IPython.core.display.HTML object>"
      ]
     },
     "metadata": {},
     "output_type": "display_data"
    }
   ],
   "source": [
    "L = LatinRectangle([[1,4,3,5],[5,3,1,4]],N=[1,2,3,4,5])\n",
    "L.excess_report()"
   ]
  },
  {
   "cell_type": "markdown",
   "metadata": {},
   "source": [
    "**Example 14.14**"
   ]
  },
  {
   "cell_type": "code",
   "execution_count": 6,
   "metadata": {},
   "outputs": [
    {
     "data": {
      "text/latex": [
       "$\\displaystyle \\left[\\begin{matrix}1 & 2 & 4 & 5 & 3\\\\5 & 1 & 2 & 3 & 4\\end{matrix}\\right]$"
      ],
      "text/plain": [
       "Matrix([\n",
       "[1, 2, 4, 5, 3],\n",
       "[5, 1, 2, 3, 4]])"
      ]
     },
     "metadata": {},
     "output_type": "display_data"
    },
    {
     "data": {
      "text/plain": [
       "<Axes: >"
      ]
     },
     "execution_count": 6,
     "metadata": {},
     "output_type": "execute_result"
    },
    {
     "data": {
      "image/png": "[encoded data removed]",
      "text/plain": [
       "<Figure size 640x480 with 1 Axes>"
      ]
     },
     "metadata": {},
     "output_type": "display_data"
    }
   ],
   "source": [
    "L = LatinRectangle([[1,2,4,5,3],[5,1,2,3,4]])\n",
    "L.show_matrix()\n",
    "M = L.row_extension_problem\n",
    "M.show_board()"
   ]
  },
  {
   "cell_type": "markdown",
   "metadata": {},
   "source": [
    "**Example 14.16**"
   ]
  },
  {
   "cell_type": "code",
   "execution_count": 8,
   "metadata": {},
   "outputs": [
    {
     "data": {
      "text/html": [
       "<style>td {border: 1px solid black;}</style>\n",
       "<table>\n",
       "<tr><td>k</td><td>1</td><td>2</td><td>3</td></tr>\n",
       "<tr><td>m(k)</td><td>0</td><td>2</td><td>2</td></tr>\n",
       "<tr><td>e(k)</td><td style=\"color:red\">-1</td><td>1</td><td>1</td></tr>\n",
       "</table>"
      ],
      "text/plain": [
       "<IPython.core.display.HTML object>"
      ]
     },
     "metadata": {},
     "output_type": "display_data"
    },
    {
     "data": {
      "text/plain": [
       "False"
      ]
     },
     "execution_count": 8,
     "metadata": {},
     "output_type": "execute_result"
    }
   ],
   "source": [
    "L = LatinRectangle([[2,3],[3,2]],N=[1,2,3])\n",
    "L.excess_report()\n",
    "L.is_fully_extendable"
   ]
  },
  {
   "cell_type": "markdown",
   "metadata": {},
   "source": [
    "**Example 14.17**"
   ]
  },
  {
   "cell_type": "code",
   "execution_count": 9,
   "metadata": {},
   "outputs": [
    {
     "data": {
      "text/html": [
       "<style>td {border: 1px solid black;}</style>\n",
       "<table>\n",
       "<tr><td>k</td><td>1</td><td>2</td><td>3</td><td>4</td><td>5</td><td>6</td></tr>\n",
       "<tr><td>m(k)</td><td>4</td><td>3</td><td>4</td><td>1</td><td>1</td><td>3</td></tr>\n",
       "<tr><td>e(k)</td><td>2</td><td>1</td><td>2</td><td style=\"color:red\">-1</td><td style=\"color:red\">-1</td><td>1</td></tr>\n",
       "</table>"
      ],
      "text/plain": [
       "<IPython.core.display.HTML object>"
      ]
     },
     "metadata": {},
     "output_type": "display_data"
    },
    {
     "data": {
      "text/plain": [
       "False"
      ]
     },
     "execution_count": 9,
     "metadata": {},
     "output_type": "execute_result"
    }
   ],
   "source": [
    "L = LatinRectangle([[6,1,2,3],[5,6,3,1],[1,3,6,2],[3,2,1,4]])\n",
    "L.excess_report()\n",
    "L.is_fully_extendable"
   ]
  },
  {
   "cell_type": "markdown",
   "metadata": {},
   "source": [
    "**Example 14.20**"
   ]
  },
  {
   "cell_type": "code",
   "execution_count": 10,
   "metadata": {},
   "outputs": [
    {
     "data": {
      "text/html": [
       "<style>td {border: 1px solid black;}</style>\n",
       "<table>\n",
       "<tr><td>k</td><td>1</td><td>2</td><td>3</td><td>4</td><td>5</td><td>6</td><td>7</td></tr>\n",
       "<tr><td>m(k)</td><td>3</td><td>2</td><td>2</td><td>3</td><td>4</td><td>4</td><td>2</td></tr>\n",
       "<tr><td>e(k)</td><td>1</td><td style=\"color:orange\">0</td><td style=\"color:orange\">0</td><td>1</td><td>2</td><td>2</td><td style=\"color:orange\">0</td></tr>\n",
       "</table>"
      ],
      "text/plain": [
       "<IPython.core.display.HTML object>"
      ]
     },
     "metadata": {},
     "output_type": "display_data"
    },
    {
     "data": {
      "text/plain": [
       "True"
      ]
     },
     "execution_count": 10,
     "metadata": {},
     "output_type": "execute_result"
    }
   ],
   "source": [
    "L = LatinRectangle([[5,6,1,3,2],[6,5,2,4,7],[1,4,3,5,6],[4,7,5,6,1]])\n",
    "L.excess_report()\n",
    "L.is_fully_extendable"
   ]
  },
  {
   "cell_type": "markdown",
   "metadata": {},
   "source": [
    "**Example 14.31**"
   ]
  },
  {
   "cell_type": "code",
   "execution_count": 12,
   "metadata": {},
   "outputs": [
    {
     "data": {
      "text/latex": [
       "$\\displaystyle \\left[\\begin{matrix}0 & 1 & 2\\\\1 & 2 & 0\\\\2 & 0 & 1\\end{matrix}\\right]$"
      ],
      "text/plain": [
       "Matrix([\n",
       "[0, 1, 2],\n",
       "[1, 2, 0],\n",
       "[2, 0, 1]])"
      ]
     },
     "metadata": {},
     "output_type": "display_data"
    },
    {
     "data": {
      "text/latex": [
       "$\\displaystyle \\left[\\begin{matrix}0 & 2 & 1\\\\1 & 0 & 2\\\\2 & 1 & 0\\end{matrix}\\right]$"
      ],
      "text/plain": [
       "Matrix([\n",
       "[0, 2, 1],\n",
       "[1, 0, 2],\n",
       "[2, 1, 0]])"
      ]
     },
     "metadata": {},
     "output_type": "display_data"
    },
    {
     "data": {
      "text/plain": [
       "True"
      ]
     },
     "execution_count": 12,
     "metadata": {},
     "output_type": "execute_result"
    }
   ],
   "source": [
    "L = LatinRectangle([[0,1,2],[1,2,0],[2,0,1]])\n",
    "M = LatinRectangle([[0,2,1],[1,0,2],[2,1,0]])\n",
    "L.show_matrix()\n",
    "M.show_matrix()\n",
    "LatinRectangle.check_orthogonal(L,M)\n"
   ]
  },
  {
   "cell_type": "markdown",
   "metadata": {},
   "source": [
    "**Proposition 14.37**"
   ]
  },
  {
   "cell_type": "code",
   "execution_count": 15,
   "metadata": {},
   "outputs": [
    {
     "data": {
      "text/plain": [
       "True"
      ]
     },
     "execution_count": 15,
     "metadata": {},
     "output_type": "execute_result"
    }
   ],
   "source": [
    "p = 7\n",
    "LL = {i : LatinRectangle.modular_square(p,i) for i in range(1,p)}\n",
    "all([LatinRectangle.check_orthogonal(LL[i],LL[j]) for i in range(1,p) for j in range(i+1,p)])"
   ]
  },
  {
   "cell_type": "code",
   "execution_count": null,
   "metadata": {},
   "outputs": [],
   "source": []
  }
 ],
 "metadata": {
  "kernelspec": {
   "display_name": "Python 3",
   "language": "python",
   "name": "python3"
  },
  "language_info": {
   "codemirror_mode": {
    "name": "ipython",
    "version": 3
   },
   "file_extension": ".py",
   "mimetype": "text/x-python",
   "name": "python",
   "nbconvert_exporter": "python",
   "pygments_lexer": "ipython3",
   "version": "3.11.7"
  }
 },
 "nbformat": 4,
 "nbformat_minor": 2
}
