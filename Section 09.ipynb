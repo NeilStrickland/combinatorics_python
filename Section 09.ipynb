{
 "cells": [
  {
   "cell_type": "markdown",
   "metadata": {},
   "source": [
    "# Section 9: Tabular methods"
   ]
  },
  {
   "cell_type": "code",
   "execution_count": 1,
   "metadata": {},
   "outputs": [],
   "source": [
    "from matching_problem import *\n",
    "import numpy as np\n",
    "import sympy as sp\n",
    "from IPython.display import display, HTML\n"
   ]
  },
  {
   "cell_type": "markdown",
   "metadata": {},
   "source": [
    "**Example 9.1**"
   ]
  },
  {
   "cell_type": "code",
   "execution_count": 2,
   "metadata": {},
   "outputs": [
    {
     "data": {
      "text/plain": [
       "<Axes: >"
      ]
     },
     "execution_count": 2,
     "metadata": {},
     "output_type": "execute_result"
    },
    {
     "data": {
      "image/png": "[encoded data removed]",
      "text/plain": [
       "<Figure size 640x480 with 1 Axes>"
      ]
     },
     "metadata": {},
     "output_type": "display_data"
    }
   ],
   "source": [
    "Ec = [('A',5),('A',1),('B',1),('B',2),('C',2),('C',3),('D',3),('D',4),('E',4),('E',5)]\n",
    "M = MatchingProblem(list('ABCDE'),[1,2,3,4,5],Ec).complement()\n",
    "M.show_board(labels=True)"
   ]
  },
  {
   "cell_type": "code",
   "execution_count": 7,
   "metadata": {},
   "outputs": [
    {
     "data": {
      "text/html": [
       "<style>td {border: 1px solid white}</style>\n",
       "<table>\n",
       "<tr><td>A2</td><td>B3</td><td>C1</td><td><u>D5</u></td><td></td><td>✗</td></tr>\n",
       "<tr><td></td><td></td><td>C4</td><td>D1</td><td></td><td>✗</td></tr>\n",
       "<tr><td></td><td></td><td></td><td><u>D5</u></td><td><u>E1</u></td><td>✓</td></tr>\n",
       "<tr><td></td><td></td><td><u>C5</u></td><td><u>D1</u></td><td></td><td>✗</td></tr>\n",
       "<tr><td></td><td>B4</td><td>C1</td><td><u>D5</u></td><td><u>E3</u></td><td>✓</td></tr>\n",
       "<tr><td></td><td></td><td><u>C5</u></td><td><u>D1</u></td><td></td><td>✗</td></tr>\n",
       "<tr><td></td><td><u>B5</u></td><td>C1</td><td></td><td></td><td>✗</td></tr>\n",
       "<tr><td></td><td></td><td><u>C4</u></td><td><u>D1</u></td><td><u>E3</u></td><td>✓</td></tr>\n",
       "<tr><td>A3</td><td>B4</td><td>C1</td><td>D2</td><td></td><td>✗</td></tr>\n",
       "<tr><td></td><td></td><td></td><td><u>D5</u></td><td><u>E2</u></td><td>✓</td></tr>\n",
       "<tr><td></td><td></td><td><u>C5</u></td><td>D1</td><td></td><td>✗</td></tr>\n",
       "<tr><td></td><td></td><td></td><td><u>D2</u></td><td><u>E1</u></td><td>✓</td></tr>\n",
       "<tr><td></td><td><u>B5</u></td><td>C1</td><td></td><td></td><td>✗</td></tr>\n",
       "<tr><td></td><td></td><td><u>C4</u></td><td>D1</td><td><u>E2</u></td><td>✓</td></tr>\n",
       "<tr><td></td><td></td><td></td><td><u>D2</u></td><td><u>E1</u></td><td>✓</td></tr>\n",
       "<tr><td><u>A4</u></td><td>B3</td><td>C1</td><td></td><td></td><td>✗</td></tr>\n",
       "<tr><td></td><td></td><td></td><td><u>D5</u></td><td><u>E2</u></td><td>✓</td></tr>\n",
       "<tr><td></td><td></td><td><u>C5</u></td><td>D1</td><td></td><td>✗</td></tr>\n",
       "<tr><td></td><td></td><td></td><td><u>D2</u></td><td><u>E1</u></td><td>✓</td></tr>\n",
       "<tr><td></td><td><u>B5</u></td><td><u>C1</u></td><td></td><td><u>E3</u></td><td>✓</td></tr>\n",
       "</table>\n"
      ],
      "text/plain": [
       "<IPython.core.display.HTML object>"
      ]
     },
     "metadata": {},
     "output_type": "display_data"
    }
   ],
   "source": [
    "M.show_stepwise_rook_table()"
   ]
  }
 ],
 "metadata": {
  "kernelspec": {
   "display_name": "Python 3",
   "language": "python",
   "name": "python3"
  },
  "language_info": {
   "codemirror_mode": {
    "name": "ipython",
    "version": 3
   },
   "file_extension": ".py",
   "mimetype": "text/x-python",
   "name": "python",
   "nbconvert_exporter": "python",
   "pygments_lexer": "ipython3",
   "version": "3.11.7"
  }
 },
 "nbformat": 4,
 "nbformat_minor": 2
}
