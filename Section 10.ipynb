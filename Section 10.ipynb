{
 "cells": [
  {
   "cell_type": "markdown",
   "metadata": {},
   "source": [
    "# Section 10: Inclusion-exclusion for matching problems"
   ]
  },
  {
   "cell_type": "code",
   "execution_count": 1,
   "metadata": {},
   "outputs": [],
   "source": [
    "from matching_problem import *\n",
    "import numpy as np\n",
    "import sympy as sp\n",
    "from IPython.display import display, HTML"
   ]
  },
  {
   "cell_type": "markdown",
   "metadata": {},
   "source": [
    "**Example 10.2**"
   ]
  },
  {
   "cell_type": "code",
   "execution_count": 3,
   "metadata": {},
   "outputs": [
    {
     "data": {
      "text/plain": [
       "<Axes: >"
      ]
     },
     "execution_count": 3,
     "metadata": {},
     "output_type": "execute_result"
    },
    {
     "data": {
      "image/png": "[encoded data removed]",
      "text/plain": [
       "<Figure size 800x400 with 2 Axes>"
      ]
     },
     "metadata": {},
     "output_type": "display_data"
    }
   ],
   "source": [
    "B0 = MatchingProblem(4,4,[(0,2),(1,2),(1,3),(2,0),(2,1),(2,2),(2,3),(3,1),(3,2)])\n",
    "B1 = B0.complement()\n",
    "fig, ax = plt.subplots(1,2,figsize=(8,4))\n",
    "for i in range(2):\n",
    "    ax[i].set_aspect('equal')\n",
    "    ax[i].axis('off')\n",
    "B0.show_board(ax=ax[0],caption='$B$')\n",
    "B1.show_board(ax=ax[1],caption='$\\\\overline{B}$')"
   ]
  },
  {
   "cell_type": "markdown",
   "metadata": {},
   "source": [
    "**Example 10.13**"
   ]
  },
  {
   "cell_type": "markdown",
   "metadata": {},
   "source": [
    "Version with only jacks, queens, kings and aces"
   ]
  },
  {
   "cell_type": "code",
   "execution_count": 18,
   "metadata": {},
   "outputs": [
    {
     "data": {
      "text/latex": [
       "$r_{F_4}(x) = 24 x^{4} + 96 x^{3} + 72 x^{2} + 16 x + 1$"
      ],
      "text/plain": [
       "<IPython.core.display.Latex object>"
      ]
     },
     "metadata": {},
     "output_type": "display_data"
    },
    {
     "data": {
      "text/latex": [
       "$r_{\\overline{B}}(x) = 331776 x^{16} + 5308416 x^{15} + 35831808 x^{14} + 133595136 x^{13} + 304625664 x^{12} + 449224704 x^{11} + 446846976 x^{10} + 309325824 x^{9} + 152233344 x^{8} + 53947392 x^{7} + 13832448 x^{6} + 2557440 x^{5} + 336352 x^{4} + 30592 x^{3} + 1824 x^{2} + 64 x + 1$"
      ],
      "text/plain": [
       "<IPython.core.display.Latex object>"
      ]
     },
     "metadata": {},
     "output_type": "display_data"
    },
    {
     "data": {
      "text/latex": [
       "$c_{16}(B) = 248341303296\\approx2.483e+11$"
      ],
      "text/plain": [
       "<IPython.core.display.Latex object>"
      ]
     },
     "metadata": {},
     "output_type": "display_data"
    },
    {
     "data": {
      "text/latex": [
       "$16! = 20922789888000\\approx2.092e+13$"
      ],
      "text/plain": [
       "<IPython.core.display.Latex object>"
      ]
     },
     "metadata": {},
     "output_type": "display_data"
    },
    {
     "data": {
      "text/latex": [
       "$p = c_16(B)/16! \\approx 0.0119$"
      ],
      "text/plain": [
       "<IPython.core.display.Latex object>"
      ]
     },
     "metadata": {},
     "output_type": "display_data"
    }
   ],
   "source": [
    "x = sp.symbols('x')\n",
    "rF4 = sum([sp.binomial(4,k) ** 2 * sp.factorial(k) * x**k for k in range(5)])\n",
    "display(Latex('$r_{F_4}(x) = ' + sp.latex(rF4) + '$'))\n",
    "rBb = sp.expand(rF4 ** 4)\n",
    "display(Latex('$r_{\\\\overline{B}}(x) = ' + sp.latex(rBb) + '$'))\n",
    "a = sp.Poly(rBb, x).all_coeffs()[::-1]\n",
    "c16B = sum((-1) ** i * sp.factorial(16-i) * a[i] for i in range(17))\n",
    "display(Latex('$c_{16}(B) = ' + sp.latex(c16B) + '\\\\approx' + f'{float(c16B):.3e}' + '$'))\n",
    "display(Latex('$16! = ' + str(sp.factorial(16)) + '\\\\approx' + f'{float(sp.factorial(16)):.3e}' + '$'))\n",
    "p = float(c16B) / float(sp.factorial(16))\n",
    "display(Latex(f'$p = c_{16}(B)/16! \\\\approx {p:.4f}$'))\n"
   ]
  },
  {
   "cell_type": "markdown",
   "metadata": {},
   "source": [
    "Version with a full pack"
   ]
  },
  {
   "cell_type": "code",
   "execution_count": 21,
   "metadata": {},
   "outputs": [
    {
     "data": {
      "text/latex": [
       "$r_{F_4}(x) = 24 x^{4} + 96 x^{3} + 72 x^{2} + 16 x + 1$"
      ],
      "text/plain": [
       "<IPython.core.display.Latex object>"
      ]
     },
     "metadata": {},
     "output_type": "display_data"
    },
    {
     "data": {
      "text/latex": [
       "$r_{\\overline{B}}(x) = 876488338465357824 x^{52} + 45577393600198606848 x^{51} + 1128040491604915519488 x^{50} + 17691624949143759224832 x^{49} + 197510109930977331511296 x^{48} + 1671801585952084998488064 x^{47} + 11160044514841364048904192 x^{46} + 60349919423314312550154240 x^{45} + 269536240818933486512504832 x^{44} + 1008829460845176117163720704 x^{43} + 3200508341076271076179181568 x^{42} + 8685452212593567389102112768 x^{41} + 20314896422012315375385968640 x^{40} + 41214531997403741694399086592 x^{39} + 72925355758796236529483120640 x^{38} + 113078073865975333400686362624 x^{37} + 154308224898784201844862222336 x^{36} + 186016114662793760931122774016 x^{35} + 198761291157362514223920316416 x^{34} + 188820916758223736558378287104 x^{33} + 159913383565757439686505136128 x^{32} + 121028385182593948745868509184 x^{31} + 82032877163176103200828686336 x^{30} + 49888716764060350279204208640 x^{29} + 27266846764215411046147424256 x^{28} + 13411658611783123462206259200 x^{27} + 5943418300909605336033263616 x^{26} + 2375107083460873825743273984 x^{25} + 856457318848268962838347776 x^{24} + 278792442466454053784125440 x^{23} + 81936653202101883358937088 x^{22} + 21739757533915099252654080 x^{21} + 5205350659089153382318080 x^{20} + 1124030206367503712649216 x^{19} + 218683644405946996064256 x^{18} + 38281822498322914148352 x^{17} + 6019588771736064405504 x^{16} + 848414962333166272512 x^{15} + 106897204313740099584 x^{14} + 12001392087581949952 x^{13} + 1195874963294123008 x^{12} + 105252850794983424 x^{11} + 8134161165644800 x^{10} + 547978858645504 x^{9} + 31889733303168 x^{8} + 1584864353280 x^{7} + 66274500864 x^{6} + 2286355968 x^{5} + 63317176 x^{4} + 1352416 x^{3} + 20904 x^{2} + 208 x + 1$"
      ],
      "text/plain": [
       "<IPython.core.display.Latex object>"
      ]
     },
     "metadata": {},
     "output_type": "display_data"
    },
    {
     "data": {
      "text/latex": [
       "$c_{52}(B) = 1309302175551177162931045000259922525308763433362019257020678406144\\approx1.309e+66$"
      ],
      "text/plain": [
       "<IPython.core.display.Latex object>"
      ]
     },
     "metadata": {},
     "output_type": "display_data"
    },
    {
     "data": {
      "text/latex": [
       "$52! = 80658175170943878571660636856403766975289505440883277824000000000000\\approx8.066e+67$"
      ],
      "text/plain": [
       "<IPython.core.display.Latex object>"
      ]
     },
     "metadata": {},
     "output_type": "display_data"
    },
    {
     "data": {
      "text/latex": [
       "$p = c_{52}(B)/52! \\approx 0.0162$"
      ],
      "text/plain": [
       "<IPython.core.display.Latex object>"
      ]
     },
     "metadata": {},
     "output_type": "display_data"
    }
   ],
   "source": [
    "x = sp.symbols('x')\n",
    "rF4 = sum([sp.binomial(4,k) ** 2 * sp.factorial(k) * x**k for k in range(5)])\n",
    "display(Latex('$r_{F_4}(x) = ' + sp.latex(rF4) + '$'))\n",
    "rBb = sp.expand(rF4 ** 13)\n",
    "display(Latex('$r_{\\\\overline{B}}(x) = ' + sp.latex(rBb) + '$'))\n",
    "a = sp.Poly(rBb, x).all_coeffs()[::-1]\n",
    "c52B = sum((-1) ** i * sp.factorial(52-i) * a[i] for i in range(53))\n",
    "display(Latex('$c_{52}(B) = ' + sp.latex(c52B) + '\\\\approx' + f'{float(c52B):.3e}' + '$'))\n",
    "display(Latex('$52! = ' + str(sp.factorial(52)) + '\\\\approx' + f'{float(sp.factorial(52)):.3e}' + '$'))\n",
    "p = float(c52B) / float(sp.factorial(52))\n",
    "display(Latex('$p = c_{52}(B)/52! \\\\approx ' + f'{p:.4f}' + '$'))\n"
   ]
  },
  {
   "cell_type": "code",
   "execution_count": null,
   "metadata": {},
   "outputs": [],
   "source": []
  }
 ],
 "metadata": {
  "kernelspec": {
   "display_name": "Python 3",
   "language": "python",
   "name": "python3"
  },
  "language_info": {
   "codemirror_mode": {
    "name": "ipython",
    "version": 3
   },
   "file_extension": ".py",
   "mimetype": "text/x-python",
   "name": "python",
   "nbconvert_exporter": "python",
   "pygments_lexer": "ipython3",
   "version": "3.11.7"
  }
 },
 "nbformat": 4,
 "nbformat_minor": 2
}
