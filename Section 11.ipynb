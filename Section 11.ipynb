{
 "cells": [
  {
   "cell_type": "markdown",
   "metadata": {},
   "source": [
    "# Section 11: Hall's marriage theorem"
   ]
  },
  {
   "cell_type": "code",
   "execution_count": 1,
   "metadata": {},
   "outputs": [],
   "source": [
    "from matching_problem import *\n",
    "import numpy as np\n",
    "import sympy as sp\n",
    "from IPython.display import display, HTML"
   ]
  },
  {
   "cell_type": "code",
   "execution_count": 4,
   "metadata": {},
   "outputs": [
    {
     "data": {
      "image/png": "[encoded data removed]",
      "text/plain": [
       "<Figure size 640x480 with 1 Axes>"
      ]
     },
     "metadata": {},
     "output_type": "display_data"
    },
    {
     "data": {
      "text/latex": [
       "The set $\\{E\\}$ (with candidate set $\\{Q, S\\}$) is very plausible. The matching problem may or may not be solvable; we still need to check all the other subsets of $B$ for plausibility."
      ],
      "text/plain": [
       "<IPython.core.display.Latex object>"
      ]
     },
     "metadata": {},
     "output_type": "display_data"
    },
    {
     "data": {
      "text/latex": [
       "The set $\\{A, B\\}$ (with candidate set $\\{P, Q, R, S, T\\}$) is very plausible. The matching problem may or may not be solvable; we still need to check all the other subsets of $B$ for plausibility."
      ],
      "text/plain": [
       "<IPython.core.display.Latex object>"
      ]
     },
     "metadata": {},
     "output_type": "display_data"
    },
    {
     "data": {
      "text/latex": [
       "The set $\\{C, D\\}$ (with candidate set $\\{Q, S\\}$) is barely plausible. The matching problem may or may not be solvable; we still need to check all the other subsets of $B$ for plausibility."
      ],
      "text/plain": [
       "<IPython.core.display.Latex object>"
      ]
     },
     "metadata": {},
     "output_type": "display_data"
    },
    {
     "data": {
      "text/latex": [
       "The set $\\{C, D, E\\}$ (with candidate set $\\{Q, S\\}$) is implausible. As there is at least one implausible set, the matching problem is implausible and cannot be solved."
      ],
      "text/plain": [
       "<IPython.core.display.Latex object>"
      ]
     },
     "metadata": {},
     "output_type": "display_data"
    }
   ],
   "source": [
    "E = 'PA PB QB QC QE RA RB SA SC SD SE TA TB '\n",
    "E = [(E[3*i],E[3*i+1]) for i in range(len(E)//3)]\n",
    "M = MatchingProblem(list('PQRST'),list('ABCDE'),E)\n",
    "M.show_board(labels=True)\n",
    "plt.show()\n",
    "display(Latex((M.check_plausibility(['E'])[1])))\n",
    "display(Latex((M.check_plausibility(['A','B'])[1])))\n",
    "display(Latex((M.check_plausibility(['C','D'])[1])))\n",
    "display(Latex((M.check_plausibility(['C','D','E'])[1])))"
   ]
  },
  {
   "cell_type": "code",
   "execution_count": null,
   "metadata": {},
   "outputs": [],
   "source": []
  }
 ],
 "metadata": {
  "kernelspec": {
   "display_name": "Python 3",
   "language": "python",
   "name": "python3"
  },
  "language_info": {
   "codemirror_mode": {
    "name": "ipython",
    "version": 3
   },
   "file_extension": ".py",
   "mimetype": "text/x-python",
   "name": "python",
   "nbconvert_exporter": "python",
   "pygments_lexer": "ipython3",
   "version": "3.11.7"
  }
 },
 "nbformat": 4,
 "nbformat_minor": 2
}
