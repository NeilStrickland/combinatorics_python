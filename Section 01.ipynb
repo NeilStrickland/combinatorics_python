{
 "cells": [
  {
   "cell_type": "markdown",
   "metadata": {},
   "source": [
    "# Section 1: Counting sets"
   ]
  },
  {
   "cell_type": "code",
   "execution_count": 1,
   "metadata": {},
   "outputs": [],
   "source": [
    "from basic import *\n",
    "from counting_sets import *\n",
    "from triangles import *\n",
    "from circle_regions_demo import *\n",
    "import sympy as sp\n",
    "from IPython.display import display, Math, Latex\n"
   ]
  },
  {
   "cell_type": "markdown",
   "metadata": {},
   "source": [
    "**Definition 1.1**"
   ]
  },
  {
   "cell_type": "code",
   "execution_count": 2,
   "metadata": {},
   "outputs": [
    {
     "data": {
      "text/latex": [
       "The set $[3,7]=\\left\\{3, 4, 5, 6, 7\\right\\}$ has size 7 - 3 + 1 = 5."
      ],
      "text/plain": [
       "<IPython.core.display.Latex object>"
      ]
     },
     "metadata": {},
     "output_type": "display_data"
    },
    {
     "data": {
      "text/latex": [
       "The set $(3,7]=\\left\\{4, 5, 6, 7\\right\\}$ has size 7 - 3 = 4."
      ],
      "text/plain": [
       "<IPython.core.display.Latex object>"
      ]
     },
     "metadata": {},
     "output_type": "display_data"
    },
    {
     "data": {
      "text/latex": [
       "The set $[3,7)=\\left\\{3, 4, 5, 6\\right\\}$ has size 7 - 3 = 4."
      ],
      "text/plain": [
       "<IPython.core.display.Latex object>"
      ]
     },
     "metadata": {},
     "output_type": "display_data"
    },
    {
     "data": {
      "text/latex": [
       "The set $(3,7)=\\left\\{4, 5, 6\\right\\}$ has size 7 - 3 - 1 = 3."
      ],
      "text/plain": [
       "<IPython.core.display.Latex object>"
      ]
     },
     "metadata": {},
     "output_type": "display_data"
    }
   ],
   "source": [
    "n = 3\n",
    "m = 7\n",
    "display(Latex(f\"The set $[{n},{m}]=\" + sp.latex(set(interval_cc(n,m))) + f\"$ has size {m} - {n} + 1 = {m-n+1}.\"))\n",
    "display(Latex(f\"The set $({n},{m}]=\" + sp.latex(set(interval_oc(n,m))) + f\"$ has size {m} - {n} = {m-n}.\"))\n",
    "display(Latex(f\"The set $[{n},{m})=\" + sp.latex(set(interval_co(n,m))) + f\"$ has size {m} - {n} = {m-n}.\"))\n",
    "display(Latex(f\"The set $({n},{m})=\" + sp.latex(set(interval_oo(n,m))) + f\"$ has size {m} - {n} - 1 = {m-n-1}.\"))"
   ]
  },
  {
   "cell_type": "markdown",
   "metadata": {},
   "source": [
    "**Example 1.4**"
   ]
  },
  {
   "cell_type": "code",
   "execution_count": 3,
   "metadata": {},
   "outputs": [
    {
     "data": {
      "text/plain": [
       "[[0, 0, 0],\n",
       " [0, 0, 1],\n",
       " [0, 1, 0],\n",
       " [0, 1, 1],\n",
       " [1, 0, 0],\n",
       " [1, 0, 1],\n",
       " [1, 1, 0],\n",
       " [1, 1, 1]]"
      ]
     },
     "execution_count": 3,
     "metadata": {},
     "output_type": "execute_result"
    }
   ],
   "source": [
    "list_binseqs(3)"
   ]
  },
  {
   "cell_type": "code",
   "execution_count": 4,
   "metadata": {},
   "outputs": [
    {
     "data": {
      "text/plain": [
       "[[0, 0, 1, 1, 1],\n",
       " [0, 1, 0, 1, 1],\n",
       " [0, 1, 1, 0, 1],\n",
       " [0, 1, 1, 1, 0],\n",
       " [1, 0, 0, 1, 1],\n",
       " [1, 0, 1, 0, 1],\n",
       " [1, 0, 1, 1, 0],\n",
       " [1, 1, 0, 0, 1],\n",
       " [1, 1, 0, 1, 0],\n",
       " [1, 1, 1, 0, 0]]"
      ]
     },
     "execution_count": 4,
     "metadata": {},
     "output_type": "execute_result"
    }
   ],
   "source": [
    "list_binseqs(5,3)"
   ]
  },
  {
   "cell_type": "markdown",
   "metadata": {},
   "source": [
    "**Proposition 1.5**\n",
    "\n",
    "The following line checks that the function `count_binseqs(n)` (which just returns $2^n$) is a correct count of the list returned by `list_binseqs(n)`"
   ]
  },
  {
   "cell_type": "code",
   "execution_count": 5,
   "metadata": {},
   "outputs": [
    {
     "data": {
      "text/plain": [
       "True"
      ]
     },
     "execution_count": 5,
     "metadata": {},
     "output_type": "execute_result"
    }
   ],
   "source": [
    "all([len(list_binseqs(n)) == count_binseqs(n) for n in range(8)])"
   ]
  },
  {
   "cell_type": "markdown",
   "metadata": {},
   "source": [
    "**Example 1.7**"
   ]
  },
  {
   "cell_type": "code",
   "execution_count": 6,
   "metadata": {},
   "outputs": [
    {
     "name": "stdout",
     "output_type": "stream",
     "text": [
      "[set(), {'c'}, {'b'}, {'c', 'b'}, {'a'}, {'c', 'a'}, {'a', 'b'}, {'c', 'a', 'b'}]\n",
      "[{'a', 'b'}, {'c', 'a'}, {'c', 'b'}]\n"
     ]
    }
   ],
   "source": [
    "A = {'a','b','c'}\n",
    "print(list_subsets(A))\n",
    "print(list_subsets(A, 2))"
   ]
  },
  {
   "cell_type": "markdown",
   "metadata": {},
   "source": [
    "**Example 1.10**"
   ]
  },
  {
   "cell_type": "code",
   "execution_count": 7,
   "metadata": {},
   "outputs": [
    {
     "name": "stdout",
     "output_type": "stream",
     "text": [
      "['ab', 'ac', 'ba', 'bc', 'ca', 'cb']\n",
      "['abc', 'acb', 'bac', 'bca', 'cab', 'cba']\n"
     ]
    }
   ],
   "source": [
    "A = {'a','b','c'}\n",
    "print([str.join('',x) for x in list_distinct_seqs(A,2)])\n",
    "print([str.join('',x) for x in list_distinct_seqs(A,3)])\n"
   ]
  },
  {
   "cell_type": "markdown",
   "metadata": {},
   "source": [
    "**Proposition 1.11**\n",
    "\n",
    "The following line checks that the function `count_distinct_seqs(A,k)` (which just returns $n!/(n-k)!$, where $n=|A|$) is a correct count of the list returned by `list_distinct_seqs(A,k)`."
   ]
  },
  {
   "cell_type": "code",
   "execution_count": 8,
   "metadata": {},
   "outputs": [
    {
     "data": {
      "text/plain": [
       "True"
      ]
     },
     "execution_count": 8,
     "metadata": {},
     "output_type": "execute_result"
    }
   ],
   "source": [
    "A = {'a','b','c','d','e'}\n",
    "all([len(list_distinct_seqs(A,k)) == count_distinct_seqs(A,k) for k in range(len(A)+2)])"
   ]
  },
  {
   "cell_type": "markdown",
   "metadata": {},
   "source": [
    "**Corollary 1.13**\n",
    "\n",
    "The following line checks that the function `count_subsets(A,k)` (which just returns $\\binom{n}{k}$, where $n=|A|$) is a correct count of the list returned by `list_subsets(A,k)`."
   ]
  },
  {
   "cell_type": "code",
   "execution_count": 9,
   "metadata": {},
   "outputs": [
    {
     "data": {
      "text/plain": [
       "True"
      ]
     },
     "execution_count": 9,
     "metadata": {},
     "output_type": "execute_result"
    }
   ],
   "source": [
    "A = {'a','b','c','d','e'}\n",
    "all([len(list_subsets(A,k)) == count_subsets(A,k) for k in range(len(A)+2)])"
   ]
  },
  {
   "cell_type": "markdown",
   "metadata": {},
   "source": [
    "**Problem 1.15**"
   ]
  },
  {
   "cell_type": "code",
   "execution_count": 10,
   "metadata": {},
   "outputs": [
    {
     "name": "stdout",
     "output_type": "stream",
     "text": [
      "120\n",
      "20\n",
      "970200\n",
      "161700\n"
     ]
    }
   ],
   "source": [
    "print(count_distinct_seqs(6,3))\n",
    "print(count_subsets(6,3))\n",
    "print(count_distinct_seqs(100,3))\n",
    "print(count_subsets(100,3))"
   ]
  },
  {
   "cell_type": "markdown",
   "metadata": {},
   "source": [
    "**Problem 1.16**"
   ]
  },
  {
   "cell_type": "code",
   "execution_count": 11,
   "metadata": {},
   "outputs": [
    {
     "data": {
      "text/plain": [
       "45057474"
      ]
     },
     "execution_count": 11,
     "metadata": {},
     "output_type": "execute_result"
    }
   ],
   "source": [
    "count_subsets(59,6)"
   ]
  },
  {
   "cell_type": "markdown",
   "metadata": {},
   "source": [
    "**Example 1.17**"
   ]
  },
  {
   "cell_type": "code",
   "execution_count": 12,
   "metadata": {},
   "outputs": [
    {
     "data": {
      "text/latex": [
       "$\\displaystyle x^{4} + 4 x^{3} + 6 x^{2} + 4 x + 1$"
      ],
      "text/plain": [
       "x**4 + 4*x**3 + 6*x**2 + 4*x + 1"
      ]
     },
     "execution_count": 12,
     "metadata": {},
     "output_type": "execute_result"
    }
   ],
   "source": [
    "x = sp.symbols('x')\n",
    "sp.expand((1+x)**4)"
   ]
  },
  {
   "cell_type": "markdown",
   "metadata": {},
   "source": [
    "**Proposition 1.18**\n",
    "\n",
    "This checks the equation $1+2+\\dotsb+n=\\binom{n+1}{2}$, for $n$ from $0$ to $9$."
   ]
  },
  {
   "cell_type": "code",
   "execution_count": 13,
   "metadata": {},
   "outputs": [
    {
     "data": {
      "text/plain": [
       "True"
      ]
     },
     "execution_count": 13,
     "metadata": {},
     "output_type": "execute_result"
    }
   ],
   "source": [
    "all([sum(interval_cc(1,n)) == math.comb(n+1,2) for n in range(10)])"
   ]
  },
  {
   "cell_type": "markdown",
   "metadata": {},
   "source": [
    "**Proposition 1.19**\n",
    "\n",
    "This checks the identity $\\binom{n}{k}=\\binom{n-1}{k}+\\binom{n-1}{k-1}$ for $n,k>0$."
   ]
  },
  {
   "cell_type": "code",
   "execution_count": 14,
   "metadata": {},
   "outputs": [
    {
     "data": {
      "text/plain": [
       "True"
      ]
     },
     "execution_count": 14,
     "metadata": {},
     "output_type": "execute_result"
    }
   ],
   "source": [
    "all([math.comb(n,k) == math.comb(n-1,k) + math.comb(n-1,k-1) for n in range(1,10) for k in range(1,10)])"
   ]
  },
  {
   "cell_type": "markdown",
   "metadata": {},
   "source": [
    "**Proposition 1.20**\n",
    "\n",
    "This checks the identity $\\binom{n}{k}=\\binom{n}{n-k}$ for $0\\leq k\\leq n$"
   ]
  },
  {
   "cell_type": "code",
   "execution_count": 15,
   "metadata": {},
   "outputs": [
    {
     "data": {
      "text/plain": [
       "True"
      ]
     },
     "execution_count": 15,
     "metadata": {},
     "output_type": "execute_result"
    }
   ],
   "source": [
    "all([math.comb(n,k) == math.comb(n,n-k) for n in range(10) for k in range(n+1)])"
   ]
  },
  {
   "cell_type": "markdown",
   "metadata": {},
   "source": [
    "**Example 1.22**\n",
    "\n",
    "Here we find the gappy subsets of size $3$ in $\\{1,\\dotsc,7\\}$ in two different ways.  Firstly, we can just use the function `list_gappy_sets()`.  Secondly, we can use the function `list_subsets(7,3)` to list all subsets of size three, then use `is_gappy_subset()` to select the gappy ones.  Because of technicalities about how Python handles sets and lists, we need to convert sets to sorted lists before we can check whether they are the same.  After doing this, we find that the two different processes give the same list of gappy sets."
   ]
  },
  {
   "cell_type": "code",
   "execution_count": 27,
   "metadata": {},
   "outputs": [
    {
     "name": "stdout",
     "output_type": "stream",
     "text": [
      "[[1, 3, 5], [1, 3, 6], [1, 3, 7], [1, 4, 6], [1, 4, 7], [1, 5, 7], [2, 4, 6], [2, 4, 7], [2, 5, 7], [3, 5, 7]]\n"
     ]
    },
    {
     "data": {
      "text/plain": [
       "True"
      ]
     },
     "execution_count": 27,
     "metadata": {},
     "output_type": "execute_result"
    }
   ],
   "source": [
    "n = 7\n",
    "k = 3\n",
    "A = list_gappy_sets(n, k) \n",
    "B = [S for S in list_subsets(n, k) if is_gappy_subset(n,k,S)]\n",
    "A = sorted([sorted(list(a)) for a in A])\n",
    "B = sorted([sorted(list(b)) for b in B])\n",
    "print(A)\n",
    "A == B"
   ]
  },
  {
   "cell_type": "markdown",
   "metadata": {},
   "source": [
    "**Proposition 1.23**\n",
    "\n",
    "The following line checks that the function `count_gappy_sets(n,k)` (which just returns $\\binom{n+1-k}{k}$) is a correct count of the list returned by `list_gappy_set(n,k)`."
   ]
  },
  {
   "cell_type": "code",
   "execution_count": 31,
   "metadata": {},
   "outputs": [
    {
     "data": {
      "text/plain": [
       "True"
      ]
     },
     "execution_count": 31,
     "metadata": {},
     "output_type": "execute_result"
    }
   ],
   "source": [
    "all([len(list_gappy_sets(n,k)) == count_gappy_sets(n,k) for n in range(10) for k in range(n+1)])"
   ]
  },
  {
   "cell_type": "markdown",
   "metadata": {},
   "source": [
    "**Problem 1.24**"
   ]
  },
  {
   "cell_type": "code",
   "execution_count": 32,
   "metadata": {},
   "outputs": [
    {
     "data": {
      "text/plain": [
       "56"
      ]
     },
     "execution_count": 32,
     "metadata": {},
     "output_type": "execute_result"
    }
   ],
   "source": [
    "count_gappy_sets(12,5)"
   ]
  },
  {
   "cell_type": "markdown",
   "metadata": {},
   "source": [
    "**Problem 1.25**"
   ]
  },
  {
   "cell_type": "code",
   "execution_count": 34,
   "metadata": {},
   "outputs": [
    {
     "name": "stdout",
     "output_type": "stream",
     "text": [
      "The probability is 25827165/45057474 = 2.583e+07/4.506e+07 = 0.5732049026982737.\n"
     ]
    }
   ],
   "source": [
    "n = count_gappy_sets(59,6)\n",
    "m = count_subsets(59,6)\n",
    "p = n/m\n",
    "print(f\"The probability is {n}/{m} = {float(n):.3e}/{float(m):.3e} = {p}.\")"
   ]
  },
  {
   "cell_type": "code",
   "execution_count": null,
   "metadata": {},
   "outputs": [],
   "source": []
  }
 ],
 "metadata": {
  "kernelspec": {
   "display_name": "Python 3",
   "language": "python",
   "name": "python3"
  },
  "language_info": {
   "codemirror_mode": {
    "name": "ipython",
    "version": 3
   },
   "file_extension": ".py",
   "mimetype": "text/x-python",
   "name": "python",
   "nbconvert_exporter": "python",
   "pygments_lexer": "ipython3",
   "version": "3.11.7"
  }
 },
 "nbformat": 4,
 "nbformat_minor": 2
}
